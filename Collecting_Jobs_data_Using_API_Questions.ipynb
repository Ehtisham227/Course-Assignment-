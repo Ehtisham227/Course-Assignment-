{
  "cells": [
    {
      "cell_type": "markdown",
      "metadata": {
        "id": "EDuAncs0v0WD"
      },
      "source": [
        "<p style=\"text-align:center\">\n",
        "    <a href=\"https://skills.network/?utm_medium=Exinfluencer&utm_source=Exinfluencer&utm_content=000026UJ&utm_term=10006555&utm_id=NA-SkillsNetwork-Channel-SkillsNetworkCoursesIBMDA0321ENSkillsNetwork928-2022-01-01\" target=\"_blank\">\n",
        "    <img src=\"https://cf-courses-data.s3.us.cloud-object-storage.appdomain.cloud/assets/logos/SN_web_lightmode.png\" width=\"200\" alt=\"Skills Network Logo\"  />\n",
        "    </a>\n",
        "</p>\n"
      ]
    },
    {
      "cell_type": "markdown",
      "metadata": {
        "id": "L9iRY4q-v0WI"
      },
      "source": [
        "# **Collecting Job Data Using APIs**\n"
      ]
    },
    {
      "cell_type": "markdown",
      "metadata": {
        "id": "c6s_KXIvv0WJ"
      },
      "source": [
        "Estimated time needed: **45 to 60** minutes\n"
      ]
    },
    {
      "cell_type": "markdown",
      "metadata": {
        "id": "Oe4dOyKOv0WK"
      },
      "source": [
        "## Objectives\n"
      ]
    },
    {
      "cell_type": "markdown",
      "metadata": {
        "id": "XI5s7yB2v0WL"
      },
      "source": [
        "After completing this lab, you will be able to:\n"
      ]
    },
    {
      "cell_type": "markdown",
      "metadata": {
        "id": "8cXiD4X7v0WM"
      },
      "source": [
        "*   Collect job data from Jobs API\n",
        "*   Store the collected data into an excel spreadsheet.\n"
      ]
    },
    {
      "cell_type": "markdown",
      "metadata": {
        "id": "ai19Ys1Lv0WM"
      },
      "source": [
        "><strong>Note: Before starting with the assignment make sure to read all the instructions and then move ahead with the coding part.</strong>\n"
      ]
    },
    {
      "cell_type": "markdown",
      "metadata": {
        "id": "D-WicEE9v0WN"
      },
      "source": [
        "#### Instructions\n"
      ]
    },
    {
      "cell_type": "markdown",
      "metadata": {
        "id": "aSM3kvuRv0WO"
      },
      "source": [
        "To run the actual lab, firstly you need to click on the [Jobs_API](https://cf-courses-data.s3.us.cloud-object-storage.appdomain.cloud/IBM-DA0321EN-SkillsNetwork/labs/module%201/Accessing%20Data%20Using%20APIs/Jobs_API.ipynb) notebook link. The file contains flask code which is required to run the Jobs API data.\n",
        "\n",
        "Now, to run the code in the file that opens up follow the below steps.\n",
        "\n",
        "Step1: Download the file.\n",
        "\n",
        "Step2: Upload it on the IBM Watson studio. (If IBM Watson Cloud service does not work in your system, follow the alternate Step 2 below)\n",
        "\n",
        "Step2(alternate): Upload it in your SN labs environment using the upload button which is highlighted in red in the image below:\n",
        "Remember to upload this Jobs_API file in the same folder as your current .ipynb file\n",
        "\n",
        "<img src=\"https://cf-courses-data.s3.us.cloud-object-storage.appdomain.cloud/IBM-DA0321EN-SkillsNetwork/labs/module%201/Accessing%20Data%20Using%20APIs/Upload.PNG\">\n",
        "\n",
        "Step3:  Run all the cells of the Jobs_API file. (Even if you receive an asterik sign after running the last cell, the code works fine.)\n",
        "\n",
        "If you want to learn more about flask, which is optional, you can click on this link [here](https://cf-courses-data.s3.us.cloud-object-storage.appdomain.cloud/IBM-DA0321EN-SkillsNetwork/labs/module%201/Accessing%20Data%20Using%20APIs/FLASK_API.md.html).\n",
        "\n",
        "Once you run the flask code, you can start with your assignment.\n"
      ]
    },
    {
      "cell_type": "markdown",
      "metadata": {
        "id": "2oDAbtw9v0WP"
      },
      "source": [
        "## Dataset Used in this Assignment\n",
        "\n",
        "The dataset used in this lab comes from the following source: https://www.kaggle.com/promptcloud/jobs-on-naukricom under the under a **Public Domain license**.\n",
        "\n",
        "> Note: We are using a modified subset of that dataset for the lab, so to follow the lab instructions successfully please use the dataset provided with the lab, rather than the dataset from the original source.\n",
        "\n",
        "The original dataset is a csv. We have converted the csv to json as per the requirement of the lab.\n"
      ]
    },
    {
      "cell_type": "markdown",
      "metadata": {
        "id": "2mRt46E4v0WQ"
      },
      "source": [
        "## Warm-Up Exercise\n"
      ]
    },
    {
      "cell_type": "markdown",
      "metadata": {
        "id": "sJUPD7Pnv0WQ"
      },
      "source": [
        "Before you attempt the actual lab, here is a fully solved warmup exercise that will help you to learn how to access an API.\n"
      ]
    },
    {
      "cell_type": "markdown",
      "metadata": {
        "id": "m7xWQ0a8v0WR"
      },
      "source": [
        "Using an API, let us find out who currently are on the International Space Station (ISS).<br> The API at [http://api.open-notify.org/astros.json](http://api.open-notify.org/astros.json?utm_medium=Exinfluencer&utm_source=Exinfluencer&utm_content=000026UJ&utm_term=10006555&utm_id=NA-SkillsNetwork-Channel-SkillsNetworkCoursesIBMDA0321ENSkillsNetwork21426264-2021-01-01&cm_mmc=Email_Newsletter-_-Developer_Ed%2BTech-_-WW_WW-_-SkillsNetwork-Courses-IBM-DA0321EN-SkillsNetwork-21426264&cm_mmca1=000026UJ&cm_mmca2=10006555&cm_mmca3=M12345678&cvosrc=email.Newsletter.M12345678&cvo_campaign=000026UJ) gives us the information of astronauts currently on ISS in json format.<br>\n",
        "You can read more about this API at [http://open-notify.org/Open-Notify-API/People-In-Space/](http://open-notify.org/Open-Notify-API/People-In-Space?utm_medium=Exinfluencer&utm_source=Exinfluencer&utm_content=000026UJ&utm_term=10006555&utm_id=NA-SkillsNetwork-Channel-SkillsNetworkCoursesIBMDA0321ENSkillsNetwork21426264-2021-01-01&cm_mmc=Email_Newsletter-_-Developer_Ed%2BTech-_-WW_WW-_-SkillsNetwork-Courses-IBM-DA0321EN-SkillsNetwork-21426264&cm_mmca1=000026UJ&cm_mmca2=10006555&cm_mmca3=M12345678&cvosrc=email.Newsletter.M12345678&cvo_campaign=000026UJ)\n"
      ]
    },
    {
      "cell_type": "code",
      "execution_count": 1,
      "metadata": {
        "id": "65HF2kPev0WS"
      },
      "outputs": [],
      "source": [
        "import requests # you need this module to make an API call\n",
        "import pandas as pd"
      ]
    },
    {
      "cell_type": "code",
      "execution_count": 2,
      "metadata": {
        "id": "PiTQuDy5v0WU"
      },
      "outputs": [],
      "source": [
        "api_url = \"http://api.open-notify.org/astros.json\" # this url gives use the astronaut data"
      ]
    },
    {
      "cell_type": "code",
      "execution_count": 3,
      "metadata": {
        "id": "mCBxBDGjv0WV"
      },
      "outputs": [],
      "source": [
        "response = requests.get(api_url) # Call the API using the get method and store the\n",
        "                                # output of the API call in a variable called response."
      ]
    },
    {
      "cell_type": "code",
      "execution_count": 4,
      "metadata": {
        "id": "gxvZvIUYv0WV"
      },
      "outputs": [],
      "source": [
        "if response.ok:             # if all is well() no errors, no network timeouts)\n",
        "    data = response.json()  # store the result in json format in a variable called data\n",
        "                            # the variable data is of type dictionary."
      ]
    },
    {
      "cell_type": "code",
      "execution_count": 5,
      "metadata": {
        "colab": {
          "base_uri": "https://localhost:8080/"
        },
        "id": "sUpGKzZzv0WW",
        "outputId": "a481a858-b7bf-4143-a179-ef8364e0acd3"
      },
      "outputs": [
        {
          "output_type": "stream",
          "name": "stdout",
          "text": [
            "{'message': 'success', 'people': [{'name': 'Jasmin Moghbeli', 'craft': 'ISS'}, {'name': 'Andreas Mogensen', 'craft': 'ISS'}, {'name': 'Satoshi Furukawa', 'craft': 'ISS'}, {'name': 'Konstantin Borisov', 'craft': 'ISS'}, {'name': 'Oleg Kononenko', 'craft': 'ISS'}, {'name': 'Nikolai Chub', 'craft': 'ISS'}, {'name': \"Loral O'Hara\", 'craft': 'ISS'}], 'number': 7}\n"
          ]
        }
      ],
      "source": [
        "print(data)   # print the data just to check the output or for debugging"
      ]
    },
    {
      "cell_type": "markdown",
      "metadata": {
        "id": "QJM0t49iv0WW"
      },
      "source": [
        "Print the number of astronauts currently on ISS.\n"
      ]
    },
    {
      "cell_type": "code",
      "execution_count": 6,
      "metadata": {
        "colab": {
          "base_uri": "https://localhost:8080/"
        },
        "id": "uYBHRkILv0WX",
        "outputId": "cb7626f5-aac7-40b1-b90c-b06598289093"
      },
      "outputs": [
        {
          "output_type": "stream",
          "name": "stdout",
          "text": [
            "7\n"
          ]
        }
      ],
      "source": [
        "print(data.get('number'))"
      ]
    },
    {
      "cell_type": "markdown",
      "metadata": {
        "id": "zTqvj4ghv0WX"
      },
      "source": [
        "Print the names of the astronauts currently on ISS.\n"
      ]
    },
    {
      "cell_type": "code",
      "execution_count": 7,
      "metadata": {
        "colab": {
          "base_uri": "https://localhost:8080/"
        },
        "id": "ZKHNImNXv0WZ",
        "outputId": "f4320157-75b3-4d2e-81ad-89bee5dc272b"
      },
      "outputs": [
        {
          "output_type": "stream",
          "name": "stdout",
          "text": [
            "There are 7 astronauts on ISS\n",
            "And their names are :\n",
            "Jasmin Moghbeli\n",
            "Andreas Mogensen\n",
            "Satoshi Furukawa\n",
            "Konstantin Borisov\n",
            "Oleg Kononenko\n",
            "Nikolai Chub\n",
            "Loral O'Hara\n"
          ]
        }
      ],
      "source": [
        "astronauts = data.get('people')\n",
        "print(\"There are {} astronauts on ISS\".format(len(astronauts)))\n",
        "print(\"And their names are :\")\n",
        "for astronaut in astronauts:\n",
        "    print(astronaut.get('name'))"
      ]
    },
    {
      "cell_type": "markdown",
      "metadata": {
        "id": "IPsyFXYFv0WZ"
      },
      "source": [
        "Hope the warmup was helpful. Good luck with your next lab!\n"
      ]
    },
    {
      "cell_type": "markdown",
      "metadata": {
        "id": "ENszOZciv0WZ"
      },
      "source": [
        "## Lab: Collect Jobs Data using Jobs API\n"
      ]
    },
    {
      "cell_type": "markdown",
      "metadata": {
        "id": "zkSgOR_Zv0Wa"
      },
      "source": [
        "### Objective: Determine the number of jobs currently open for various technologies  and for various locations\n"
      ]
    },
    {
      "cell_type": "markdown",
      "metadata": {
        "id": "eIhJvHCXv0Wa"
      },
      "source": [
        "Collect the number of job postings for the following locations using the API:\n",
        "\n",
        "* Los Angeles\n",
        "* New York\n",
        "* San Francisco\n",
        "* Washington DC\n",
        "* Seattle\n",
        "* Austin\n",
        "* Detroit\n"
      ]
    },
    {
      "cell_type": "code",
      "execution_count": 8,
      "metadata": {
        "id": "c7-HBGLIv0Wa"
      },
      "outputs": [],
      "source": [
        "#Import required libraries\n",
        "import pandas as pd\n",
        "import json"
      ]
    },
    {
      "cell_type": "markdown",
      "metadata": {
        "id": "qWfbdCYdv0Wa"
      },
      "source": [
        "#### Write a function to get the number of jobs for the Python technology.<br>\n",
        "> Note: While using the lab you need to pass the **payload** information for the **params** attribute in the form of **key** **value** pairs.\n",
        "  Refer the ungraded **rest api lab** in the course **Python for Data Science, AI & Development**  <a href=\"https://www.coursera.org/learn/python-for-applied-data-science-ai/ungradedLti/P6sW8/hands-on-lab-access-rest-apis-request-http?utm_medium=Exinfluencer&utm_source=Exinfluencer&utm_content=000026UJ&utm_term=10006555&utm_id=NA-SkillsNetwork-Channel-SkillsNetworkCoursesIBMDA0321ENSkillsNetwork928-2022-01-01\">link</a>\n",
        "  \n",
        " ##### The keys in the json are\n",
        " * Job Title\n",
        "\n",
        " * Job Experience Required\n",
        "\n",
        " * Key Skills\n",
        "\n",
        " * Role Category\n",
        "\n",
        " * Location\n",
        "\n",
        " * Functional Area\n",
        "\n",
        " * Industry\n",
        "\n",
        " * Role\n",
        "\n",
        "You can also view  the json file contents  from the following <a href = \"https://cf-courses-data.s3.us.cloud-object-storage.appdomain.cloud/IBM-DA0321EN-SkillsNetwork/labs/module%201/Accessing%20Data%20Using%20APIs/jobs.json\">json</a> URL.\n"
      ]
    },
    {
      "cell_type": "code",
      "execution_count": 11,
      "metadata": {
        "id": "a-NBJxjdv0Wb"
      },
      "outputs": [],
      "source": [
        "api_url=\"http://127.0.0.1:5000/data\"\n",
        "def get_number_of_jobs_T(technology):\n",
        "    response = requests.get(api_url) # Call the API using the get method and store the\n",
        "                                # output of the API call in a variable called response.\n",
        "    if response.ok:             # if all is well() no errors, no network timeouts)\n",
        "       data = response.json()  # store the result in json format in a variable called data\n",
        "                            # the variable data is of type dictionary.\n",
        "    print(data.get('number'))\n",
        "    #your code goes here\n",
        "    return technology,number_of_jobs"
      ]
    },
    {
      "cell_type": "markdown",
      "metadata": {
        "id": "RHmsZQHFv0Wb"
      },
      "source": [
        "Calling the function for Python and checking if it works.\n"
      ]
    },
    {
      "cell_type": "code",
      "source": [
        "import requests\n",
        "\n",
        "def get_number_of_jobs_T(technology):\n",
        "    # API URL for fetching JSON data\n",
        "    api_url = \"https://cf-courses-data.s3.us.cloud-object-storage.appdomain.cloud/IBM-DA0321EN-SkillsNetwork/labs/module%201/Accessing%20Data%20Using%20APIs/jobs.json\"\n",
        "\n",
        "    try:\n",
        "        # Fetch JSON data from the API URL\n",
        "        response = requests.get(api_url)\n",
        "        response.raise_for_status()  # Raise an exception for any HTTP error\n",
        "\n",
        "        # Parse JSON data\n",
        "        jobs_data = response.json()\n",
        "\n",
        "        # Initialize counter for the number of jobs\n",
        "        number_of_jobs = 0\n",
        "\n",
        "        # Iterate through each job entry in the JSON data\n",
        "        for job in jobs_data:\n",
        "            # Check if the technology is present in the Key Skills field\n",
        "            if technology.lower() in job['Key Skills'].lower():\n",
        "                number_of_jobs += 1  # Increment the job counter\n",
        "\n",
        "        # Return the technology and the number of jobs found\n",
        "        return technology, number_of_jobs\n",
        "\n",
        "    except Exception as e:\n",
        "        print(\"An error occurred:\", e)\n",
        "\n",
        "# Test the function with the 'Python' technology\n",
        "technology = 'Python'\n",
        "technology, number_of_jobs = get_number_of_jobs_T(technology)\n",
        "print(\"Number of jobs for\", technology, \"is:\", number_of_jobs)\n"
      ],
      "metadata": {
        "colab": {
          "base_uri": "https://localhost:8080/"
        },
        "id": "lyMtq2Qk0jjs",
        "outputId": "793cf750-2979-4a6b-e89c-24d2fced1d0f"
      },
      "execution_count": 13,
      "outputs": [
        {
          "output_type": "stream",
          "name": "stdout",
          "text": [
            "Number of jobs for Python is: 1173\n"
          ]
        }
      ]
    },
    {
      "cell_type": "code",
      "execution_count": 14,
      "metadata": {
        "colab": {
          "base_uri": "https://localhost:8080/"
        },
        "id": "O1c5-NFTv0Wb",
        "outputId": "e6e55099-ff8d-4ec5-cc38-6ba20abf8e09"
      },
      "outputs": [
        {
          "output_type": "execute_result",
          "data": {
            "text/plain": [
              "('Python', 1173)"
            ]
          },
          "metadata": {},
          "execution_count": 14
        }
      ],
      "source": [
        "get_number_of_jobs_T(\"Python\")"
      ]
    },
    {
      "cell_type": "markdown",
      "metadata": {
        "id": "LuvGQisQv0Wb"
      },
      "source": [
        "#### Write a function to find number of jobs in US for a location of your choice\n"
      ]
    },
    {
      "cell_type": "code",
      "execution_count": 15,
      "metadata": {
        "id": "DLx1RTH6v0Wb"
      },
      "outputs": [],
      "source": [
        "def get_number_of_jobs_L(location):\n",
        "\n",
        "    #your coe goes here\n",
        "    return location,number_of_jobs"
      ]
    },
    {
      "cell_type": "code",
      "source": [
        "import requests\n",
        "\n",
        "def get_number_of_jobs_location(location):\n",
        "    # API URL for fetching JSON data\n",
        "    api_url = \"https://cf-courses-data.s3.us.cloud-object-storage.appdomain.cloud/IBM-DA0321EN-SkillsNetwork/labs/module%201/Accessing%20Data%20Using%20APIs/jobs.json\"\n",
        "\n",
        "    try:\n",
        "        # Fetch JSON data from the API URL\n",
        "        response = requests.get(api_url)\n",
        "        response.raise_for_status()  # Raise an exception for any HTTP error\n",
        "\n",
        "        # Parse JSON data\n",
        "        jobs_data = response.json()\n",
        "\n",
        "        # Initialize counter for the number of jobs\n",
        "        number_of_jobs = 0\n",
        "\n",
        "        # Iterate through each job entry in the JSON data\n",
        "        for job in jobs_data:\n",
        "            # Check if the location matches the specified location\n",
        "            if location.lower() in job['Location'].lower():\n",
        "                number_of_jobs += 1  # Increment the job counter\n",
        "\n",
        "        # Return the location and the number of jobs found\n",
        "        return location, number_of_jobs\n",
        "\n",
        "    except Exception as e:\n",
        "        print(\"An error occurred:\", e)\n",
        "\n",
        "# Test the function with the location 'New York'\n",
        "location = 'New York'\n",
        "location, number_of_jobs = get_number_of_jobs_location(location)\n",
        "print(\"Number of jobs in\", location, \"is:\", number_of_jobs)\n"
      ],
      "metadata": {
        "colab": {
          "base_uri": "https://localhost:8080/"
        },
        "id": "b-ksQQoN1AZC",
        "outputId": "db12041a-1a04-4b9b-93ad-f4f53140c615"
      },
      "execution_count": 16,
      "outputs": [
        {
          "output_type": "stream",
          "name": "stdout",
          "text": [
            "Number of jobs in New York is: 3226\n"
          ]
        }
      ]
    },
    {
      "cell_type": "markdown",
      "metadata": {
        "id": "uMQeAP9iv0Wc"
      },
      "source": [
        "Call the function for Los Angeles and check if it is working.\n",
        "\n",
        "\n"
      ]
    },
    {
      "cell_type": "code",
      "execution_count": 17,
      "metadata": {
        "colab": {
          "base_uri": "https://localhost:8080/"
        },
        "id": "i7cY-IPAv0Wc",
        "outputId": "a2929929-b0b7-420a-dd8c-297fb346b705"
      },
      "outputs": [
        {
          "output_type": "stream",
          "name": "stdout",
          "text": [
            "Number of jobs in Los Angeles is: 640\n"
          ]
        }
      ],
      "source": [
        "#your code goes here\n",
        "\n",
        "# Test the function with the location 'New York'\n",
        "location = 'Los Angeles'\n",
        "location, number_of_jobs = get_number_of_jobs_location(location)\n",
        "print(\"Number of jobs in\", location, \"is:\", number_of_jobs)\n"
      ]
    },
    {
      "cell_type": "markdown",
      "metadata": {
        "id": "jw2S91D9v0Wc"
      },
      "source": [
        "### Store the results in an excel file\n"
      ]
    },
    {
      "cell_type": "markdown",
      "metadata": {
        "id": "tbBXxPNzv0Wc"
      },
      "source": [
        "Call the API for all the given technologies above and write the results in an excel spreadsheet.\n"
      ]
    },
    {
      "cell_type": "markdown",
      "metadata": {
        "id": "IGQCHD9Sv0Wc"
      },
      "source": [
        "If you do not know how create excel file using python, double click here for **hints**.\n",
        "\n",
        "<!--\n",
        "\n",
        "from openpyxl import Workbook        # import Workbook class from module openpyxl\n",
        "wb=Workbook()                        # create a workbook object\n",
        "ws=wb.active                         # use the active worksheet\n",
        "ws.append(['Country','Continent'])   # add a row with two columns 'Country' and 'Continent'\n",
        "ws.append(['Eygpt','Africa'])        # add a row with two columns 'Egypt' and 'Africa'\n",
        "ws.append(['India','Asia'])          # add another row\n",
        "ws.append(['France','Europe'])       # add another row\n",
        "wb.save(\"countries.xlsx\")            # save the workbook into a file called countries.xlsx\n",
        "\n",
        "\n",
        "-->\n"
      ]
    },
    {
      "cell_type": "markdown",
      "metadata": {
        "id": "FDfTj0WFv0We"
      },
      "source": [
        "Create a python list of all locations for which you need to find the number of jobs postings.\n"
      ]
    },
    {
      "cell_type": "code",
      "execution_count": null,
      "metadata": {
        "id": "eeSwkmzcv0We"
      },
      "outputs": [],
      "source": [
        "#your code goes here\n",
        "import requests\n",
        "import pandas as pd\n",
        "\n",
        "# List of technologies\n",
        "technologies = ['Python', 'Java', 'SQL', 'Machine Learning']\n",
        "\n",
        "# List of locations\n",
        "locations = ['New York', 'San Francisco', 'Los Angeles']\n",
        "\n",
        "# Function to get number of jobs for a given technology and location\n",
        "def get_number_of_jobs(technology, location):\n",
        "    api_url = f\"https://cf-courses-data.s3.us.cloud-object-storage.appdomain.cloud/IBM-DA0321EN-SkillsNetwork/labs/module%201/Accessing%20Data%20Using%20APIs/jobs.json\"\n",
        "\n",
        "    try:\n",
        "        response = requests.get(api_url)\n",
        "        response.raise_for_status()\n",
        "        jobs_data = response.json()\n",
        "\n",
        "        number_of_jobs = sum(1 for job in jobs_data if technology.lower() in job['Key Skills'].lower() and location.lower() in job['Location'].lower())\n",
        "        return number_of_jobs\n",
        "    except Exception as e:\n",
        "        print(\"An error occurred:\", e)\n",
        "        return None\n",
        "\n",
        "# Create a DataFrame to store the results\n",
        "results = pd.DataFrame(columns=['Technology', 'Location', 'Number of Jobs'])\n",
        "\n",
        "# Iterate over each technology and location\n",
        "for technology in technologies:\n",
        "    for location in locations:\n",
        "        number_of_jobs = get_number_of_jobs(technology, location)\n",
        "        results = results.append({'Technology': technology, 'Location': location, 'Number of Jobs': number_of_jobs}, ignore_index=True)\n",
        "\n",
        "# Write the results to an Excel spreadsheet\n",
        "results.to_excel('job_postings.xlsx', index=False)\n",
        "\n",
        "print(\"Results have been written to 'job_postings.xlsx' file.\")\n"
      ]
    },
    {
      "cell_type": "markdown",
      "metadata": {
        "id": "50jlobeRv0We"
      },
      "source": [
        "Import libraries required to create excel spreadsheet\n"
      ]
    },
    {
      "cell_type": "code",
      "execution_count": 26,
      "metadata": {
        "colab": {
          "base_uri": "https://localhost:8080/",
          "height": 164
        },
        "id": "h54mywklv0We",
        "outputId": "302e7a18-7495-4287-f25f-78538a3b4d0d"
      },
      "outputs": [
        {
          "output_type": "stream",
          "name": "stdout",
          "text": [
            "  Technology       Location  Number of Jobs\n",
            "0     Python       New York             143\n",
            "1     Python  San Francisco              17\n"
          ]
        },
        {
          "output_type": "execute_result",
          "data": {
            "text/plain": [
              "  Technology       Location  Number of Jobs\n",
              "0     Python       New York             143\n",
              "1     Python  San Francisco              17"
            ],
            "text/html": [
              "\n",
              "  <div id=\"df-3e472d8d-9f96-444c-9742-ca5871289374\" class=\"colab-df-container\">\n",
              "    <div>\n",
              "<style scoped>\n",
              "    .dataframe tbody tr th:only-of-type {\n",
              "        vertical-align: middle;\n",
              "    }\n",
              "\n",
              "    .dataframe tbody tr th {\n",
              "        vertical-align: top;\n",
              "    }\n",
              "\n",
              "    .dataframe thead th {\n",
              "        text-align: right;\n",
              "    }\n",
              "</style>\n",
              "<table border=\"1\" class=\"dataframe\">\n",
              "  <thead>\n",
              "    <tr style=\"text-align: right;\">\n",
              "      <th></th>\n",
              "      <th>Technology</th>\n",
              "      <th>Location</th>\n",
              "      <th>Number of Jobs</th>\n",
              "    </tr>\n",
              "  </thead>\n",
              "  <tbody>\n",
              "    <tr>\n",
              "      <th>0</th>\n",
              "      <td>Python</td>\n",
              "      <td>New York</td>\n",
              "      <td>143</td>\n",
              "    </tr>\n",
              "    <tr>\n",
              "      <th>1</th>\n",
              "      <td>Python</td>\n",
              "      <td>San Francisco</td>\n",
              "      <td>17</td>\n",
              "    </tr>\n",
              "  </tbody>\n",
              "</table>\n",
              "</div>\n",
              "    <div class=\"colab-df-buttons\">\n",
              "\n",
              "  <div class=\"colab-df-container\">\n",
              "    <button class=\"colab-df-convert\" onclick=\"convertToInteractive('df-3e472d8d-9f96-444c-9742-ca5871289374')\"\n",
              "            title=\"Convert this dataframe to an interactive table.\"\n",
              "            style=\"display:none;\">\n",
              "\n",
              "  <svg xmlns=\"http://www.w3.org/2000/svg\" height=\"24px\" viewBox=\"0 -960 960 960\">\n",
              "    <path d=\"M120-120v-720h720v720H120Zm60-500h600v-160H180v160Zm220 220h160v-160H400v160Zm0 220h160v-160H400v160ZM180-400h160v-160H180v160Zm440 0h160v-160H620v160ZM180-180h160v-160H180v160Zm440 0h160v-160H620v160Z\"/>\n",
              "  </svg>\n",
              "    </button>\n",
              "\n",
              "  <style>\n",
              "    .colab-df-container {\n",
              "      display:flex;\n",
              "      gap: 12px;\n",
              "    }\n",
              "\n",
              "    .colab-df-convert {\n",
              "      background-color: #E8F0FE;\n",
              "      border: none;\n",
              "      border-radius: 50%;\n",
              "      cursor: pointer;\n",
              "      display: none;\n",
              "      fill: #1967D2;\n",
              "      height: 32px;\n",
              "      padding: 0 0 0 0;\n",
              "      width: 32px;\n",
              "    }\n",
              "\n",
              "    .colab-df-convert:hover {\n",
              "      background-color: #E2EBFA;\n",
              "      box-shadow: 0px 1px 2px rgba(60, 64, 67, 0.3), 0px 1px 3px 1px rgba(60, 64, 67, 0.15);\n",
              "      fill: #174EA6;\n",
              "    }\n",
              "\n",
              "    .colab-df-buttons div {\n",
              "      margin-bottom: 4px;\n",
              "    }\n",
              "\n",
              "    [theme=dark] .colab-df-convert {\n",
              "      background-color: #3B4455;\n",
              "      fill: #D2E3FC;\n",
              "    }\n",
              "\n",
              "    [theme=dark] .colab-df-convert:hover {\n",
              "      background-color: #434B5C;\n",
              "      box-shadow: 0px 1px 3px 1px rgba(0, 0, 0, 0.15);\n",
              "      filter: drop-shadow(0px 1px 2px rgba(0, 0, 0, 0.3));\n",
              "      fill: #FFFFFF;\n",
              "    }\n",
              "  </style>\n",
              "\n",
              "    <script>\n",
              "      const buttonEl =\n",
              "        document.querySelector('#df-3e472d8d-9f96-444c-9742-ca5871289374 button.colab-df-convert');\n",
              "      buttonEl.style.display =\n",
              "        google.colab.kernel.accessAllowed ? 'block' : 'none';\n",
              "\n",
              "      async function convertToInteractive(key) {\n",
              "        const element = document.querySelector('#df-3e472d8d-9f96-444c-9742-ca5871289374');\n",
              "        const dataTable =\n",
              "          await google.colab.kernel.invokeFunction('convertToInteractive',\n",
              "                                                    [key], {});\n",
              "        if (!dataTable) return;\n",
              "\n",
              "        const docLinkHtml = 'Like what you see? Visit the ' +\n",
              "          '<a target=\"_blank\" href=https://colab.research.google.com/notebooks/data_table.ipynb>data table notebook</a>'\n",
              "          + ' to learn more about interactive tables.';\n",
              "        element.innerHTML = '';\n",
              "        dataTable['output_type'] = 'display_data';\n",
              "        await google.colab.output.renderOutput(dataTable, element);\n",
              "        const docLink = document.createElement('div');\n",
              "        docLink.innerHTML = docLinkHtml;\n",
              "        element.appendChild(docLink);\n",
              "      }\n",
              "    </script>\n",
              "  </div>\n",
              "\n",
              "\n",
              "<div id=\"df-7be95c97-afc3-40b9-b6f4-a0dd757c4c3d\">\n",
              "  <button class=\"colab-df-quickchart\" onclick=\"quickchart('df-7be95c97-afc3-40b9-b6f4-a0dd757c4c3d')\"\n",
              "            title=\"Suggest charts\"\n",
              "            style=\"display:none;\">\n",
              "\n",
              "<svg xmlns=\"http://www.w3.org/2000/svg\" height=\"24px\"viewBox=\"0 0 24 24\"\n",
              "     width=\"24px\">\n",
              "    <g>\n",
              "        <path d=\"M19 3H5c-1.1 0-2 .9-2 2v14c0 1.1.9 2 2 2h14c1.1 0 2-.9 2-2V5c0-1.1-.9-2-2-2zM9 17H7v-7h2v7zm4 0h-2V7h2v10zm4 0h-2v-4h2v4z\"/>\n",
              "    </g>\n",
              "</svg>\n",
              "  </button>\n",
              "\n",
              "<style>\n",
              "  .colab-df-quickchart {\n",
              "      --bg-color: #E8F0FE;\n",
              "      --fill-color: #1967D2;\n",
              "      --hover-bg-color: #E2EBFA;\n",
              "      --hover-fill-color: #174EA6;\n",
              "      --disabled-fill-color: #AAA;\n",
              "      --disabled-bg-color: #DDD;\n",
              "  }\n",
              "\n",
              "  [theme=dark] .colab-df-quickchart {\n",
              "      --bg-color: #3B4455;\n",
              "      --fill-color: #D2E3FC;\n",
              "      --hover-bg-color: #434B5C;\n",
              "      --hover-fill-color: #FFFFFF;\n",
              "      --disabled-bg-color: #3B4455;\n",
              "      --disabled-fill-color: #666;\n",
              "  }\n",
              "\n",
              "  .colab-df-quickchart {\n",
              "    background-color: var(--bg-color);\n",
              "    border: none;\n",
              "    border-radius: 50%;\n",
              "    cursor: pointer;\n",
              "    display: none;\n",
              "    fill: var(--fill-color);\n",
              "    height: 32px;\n",
              "    padding: 0;\n",
              "    width: 32px;\n",
              "  }\n",
              "\n",
              "  .colab-df-quickchart:hover {\n",
              "    background-color: var(--hover-bg-color);\n",
              "    box-shadow: 0 1px 2px rgba(60, 64, 67, 0.3), 0 1px 3px 1px rgba(60, 64, 67, 0.15);\n",
              "    fill: var(--button-hover-fill-color);\n",
              "  }\n",
              "\n",
              "  .colab-df-quickchart-complete:disabled,\n",
              "  .colab-df-quickchart-complete:disabled:hover {\n",
              "    background-color: var(--disabled-bg-color);\n",
              "    fill: var(--disabled-fill-color);\n",
              "    box-shadow: none;\n",
              "  }\n",
              "\n",
              "  .colab-df-spinner {\n",
              "    border: 2px solid var(--fill-color);\n",
              "    border-color: transparent;\n",
              "    border-bottom-color: var(--fill-color);\n",
              "    animation:\n",
              "      spin 1s steps(1) infinite;\n",
              "  }\n",
              "\n",
              "  @keyframes spin {\n",
              "    0% {\n",
              "      border-color: transparent;\n",
              "      border-bottom-color: var(--fill-color);\n",
              "      border-left-color: var(--fill-color);\n",
              "    }\n",
              "    20% {\n",
              "      border-color: transparent;\n",
              "      border-left-color: var(--fill-color);\n",
              "      border-top-color: var(--fill-color);\n",
              "    }\n",
              "    30% {\n",
              "      border-color: transparent;\n",
              "      border-left-color: var(--fill-color);\n",
              "      border-top-color: var(--fill-color);\n",
              "      border-right-color: var(--fill-color);\n",
              "    }\n",
              "    40% {\n",
              "      border-color: transparent;\n",
              "      border-right-color: var(--fill-color);\n",
              "      border-top-color: var(--fill-color);\n",
              "    }\n",
              "    60% {\n",
              "      border-color: transparent;\n",
              "      border-right-color: var(--fill-color);\n",
              "    }\n",
              "    80% {\n",
              "      border-color: transparent;\n",
              "      border-right-color: var(--fill-color);\n",
              "      border-bottom-color: var(--fill-color);\n",
              "    }\n",
              "    90% {\n",
              "      border-color: transparent;\n",
              "      border-bottom-color: var(--fill-color);\n",
              "    }\n",
              "  }\n",
              "</style>\n",
              "\n",
              "  <script>\n",
              "    async function quickchart(key) {\n",
              "      const quickchartButtonEl =\n",
              "        document.querySelector('#' + key + ' button');\n",
              "      quickchartButtonEl.disabled = true;  // To prevent multiple clicks.\n",
              "      quickchartButtonEl.classList.add('colab-df-spinner');\n",
              "      try {\n",
              "        const charts = await google.colab.kernel.invokeFunction(\n",
              "            'suggestCharts', [key], {});\n",
              "      } catch (error) {\n",
              "        console.error('Error during call to suggestCharts:', error);\n",
              "      }\n",
              "      quickchartButtonEl.classList.remove('colab-df-spinner');\n",
              "      quickchartButtonEl.classList.add('colab-df-quickchart-complete');\n",
              "    }\n",
              "    (() => {\n",
              "      let quickchartButtonEl =\n",
              "        document.querySelector('#df-7be95c97-afc3-40b9-b6f4-a0dd757c4c3d button');\n",
              "      quickchartButtonEl.style.display =\n",
              "        google.colab.kernel.accessAllowed ? 'block' : 'none';\n",
              "    })();\n",
              "  </script>\n",
              "</div>\n",
              "\n",
              "    </div>\n",
              "  </div>\n"
            ]
          },
          "metadata": {},
          "execution_count": 26
        }
      ],
      "source": [
        "# your code goes here\n",
        "# prompt: Import libraries required to create excel spreadsheet\n",
        "\n",
        "import pandas as pd\n",
        "import openpyxl\n",
        "data = pd.read_excel(\"job_postings.xlsx\")\n",
        "print(data.head(2))\n",
        "data_df = pd.DataFrame(data)\n",
        "data_df.head(2)"
      ]
    },
    {
      "cell_type": "markdown",
      "metadata": {
        "id": "3PuHjFgov0Wf"
      },
      "source": [
        "Create a workbook and select the active worksheet\n"
      ]
    },
    {
      "cell_type": "markdown",
      "metadata": {
        "id": "csjETjcQv0Wf"
      },
      "source": [
        "Find the number of jobs postings for each of the location in the above list.\n",
        "Write the Location name and the number of jobs postings into the excel spreadsheet.\n"
      ]
    },
    {
      "cell_type": "code",
      "execution_count": null,
      "metadata": {
        "id": "Q-gzBZVDv0Wf"
      },
      "outputs": [],
      "source": [
        "#your code goes here"
      ]
    },
    {
      "cell_type": "markdown",
      "metadata": {
        "id": "3vdg5e9vv0Wg"
      },
      "source": [
        "Save into an excel spreadsheet named 'job-postings.xlsx'.\n"
      ]
    },
    {
      "cell_type": "code",
      "execution_count": null,
      "metadata": {
        "id": "WR7o0LHav0Wg"
      },
      "outputs": [],
      "source": [
        "#your code goes here"
      ]
    },
    {
      "cell_type": "markdown",
      "metadata": {
        "id": "MYk40lqUv0Wg"
      },
      "source": [
        "#### In the similar way, you can try for below given technologies and results  can be stored in an excel sheet.\n"
      ]
    },
    {
      "cell_type": "markdown",
      "metadata": {
        "id": "j7peb3LUv0Wg"
      },
      "source": [
        "Collect the number of job postings for the following languages using the API:\n",
        "\n",
        "*   C\n",
        "*   C#\n",
        "*   C++\n",
        "*   Java\n",
        "*   JavaScript\n",
        "*   Python\n",
        "*   Scala\n",
        "*   Oracle\n",
        "*   SQL Server\n",
        "*   MySQL Server\n",
        "*   PostgreSQL\n",
        "*   MongoDB\n"
      ]
    },
    {
      "cell_type": "code",
      "execution_count": null,
      "metadata": {
        "id": "kejBUk3gv0Wg"
      },
      "outputs": [],
      "source": [
        "# your code goes here\n"
      ]
    },
    {
      "cell_type": "markdown",
      "metadata": {
        "id": "H4YX6hrKv0Wh"
      },
      "source": [
        "## Author\n"
      ]
    },
    {
      "cell_type": "markdown",
      "metadata": {
        "id": "uVyKIhjov0Wh"
      },
      "source": [
        "Ayushi Jain\n"
      ]
    },
    {
      "cell_type": "markdown",
      "metadata": {
        "id": "TUHLx3P8v0Wh"
      },
      "source": [
        "### Other Contributors\n"
      ]
    },
    {
      "cell_type": "markdown",
      "metadata": {
        "id": "RaY1Xfhmv0Wh"
      },
      "source": [
        "Rav Ahuja\n",
        "\n",
        "Lakshmi Holla\n",
        "\n",
        "Malika\n"
      ]
    },
    {
      "cell_type": "markdown",
      "metadata": {
        "id": "nUrq0cipv0Wi"
      },
      "source": [
        "## Change Log\n"
      ]
    },
    {
      "cell_type": "markdown",
      "metadata": {
        "id": "ToNwzATtv0Wi"
      },
      "source": [
        "| Date (YYYY-MM-DD) | Version | Changed By        | Change Description                 |\n",
        "| ----------------- | ------- | ----------------- | ---------------------------------- |\n",
        "| 2022-01-19        | 0.3     | Lakshmi Holla        | Added changes in the markdown      |\n",
        "| 2021-06-25        | 0.2     | Malika            | Updated GitHub job json link       |\n",
        "| 2020-10-17        | 0.1     | Ramesh Sannareddy | Created initial version of the lab |\n"
      ]
    },
    {
      "cell_type": "markdown",
      "metadata": {
        "id": "DxtcL4wEv0Wi"
      },
      "source": [
        "Copyright © 2022 IBM Corporation. All rights reserved.\n"
      ]
    }
  ],
  "metadata": {
    "kernelspec": {
      "display_name": "Python",
      "language": "python",
      "name": "conda-env-python-py"
    },
    "language_info": {
      "name": ""
    },
    "colab": {
      "provenance": []
    }
  },
  "nbformat": 4,
  "nbformat_minor": 0
}